{
 "metadata": {
  "language_info": {
   "codemirror_mode": {
    "name": "ipython",
    "version": 3
   },
   "file_extension": ".py",
   "mimetype": "text/x-python",
   "name": "python",
   "nbconvert_exporter": "python",
   "pygments_lexer": "ipython3",
   "version": "3.8.5"
  },
  "orig_nbformat": 4,
  "kernelspec": {
   "name": "python3",
   "display_name": "Python 3.8.5 64-bit ('base': conda)"
  },
  "interpreter": {
   "hash": "363387ba2fc5d9a13546c0c15534aa66ddb2bd2372590b395185e4a7a0c34c2a"
  }
 },
 "nbformat": 4,
 "nbformat_minor": 2,
 "cells": [
  {
   "source": [
    "Check if a key is present in every segment of size k in an array\n",
    "<br>\n",
    "Given an array arr[] and size of array is n and one another key x, and give you a segment size k. The task is to find that the key x present in every segment of size k in arr[]\n",
    "<br><br>\n",
    "Input : \n",
    "arr[] = { 3, 5, 2, 4, 9, 3, 1, 7, 3, 11, 12, 3} \n",
    "x = 3 \n",
    "k = 3 \n",
    "Output : Yes \n",
    "There are 4 non-overlapping segments of size k in the array, {3, 5, 2}, {4, 9, 3}, {1, 7, 3} and {11, 12, 3}. 3 is present all segments.\n"
   ],
   "cell_type": "markdown",
   "metadata": {}
  },
  {
   "cell_type": "code",
   "execution_count": 14,
   "metadata": {},
   "outputs": [
    {
     "output_type": "stream",
     "name": "stdout",
     "text": [
      "No\n"
     ]
    }
   ],
   "source": [
    "i=0\n",
    "d=0\n",
    "flag=1\n",
    "k=2\n",
    "x=8\n",
    "a=list(map(int,input().split(\" \")))\n",
    "while(i<len(a)):\n",
    "    j=0\n",
    "    for j in range(k):\n",
    "        if(i+j<len(a)):\n",
    "            if(a[i+j]==x):\n",
    "                flag=0\n",
    "    i=i+k\n",
    "    if(flag==0):\n",
    "        d=d+1\n",
    "if(d==int(len(a)/k)):\n",
    "    print(\"Yes\")\n",
    "else:\n",
    "    print(\"No\")"
   ]
  },
  {
   "source": [
    "Program to find the minimum (or maximum) element of an array"
   ],
   "cell_type": "markdown",
   "metadata": {}
  },
  {
   "cell_type": "code",
   "execution_count": 19,
   "metadata": {},
   "outputs": [
    {
     "output_type": "stream",
     "name": "stdout",
     "text": [
      "min = 1\nmax = 1234\n"
     ]
    }
   ],
   "source": [
    "arr = [12, 1234, 45, 67, 1]\n",
    "print(\"min = \"+ str(min(arr)))\n",
    "print(\"max = \" +str( max(arr)))"
   ]
  },
  {
   "cell_type": "code",
   "execution_count": 20,
   "metadata": {},
   "outputs": [
    {
     "output_type": "stream",
     "name": "stdout",
     "text": [
      "min = 1\nmin = 1234\n"
     ]
    }
   ],
   "source": [
    "a = [12, 1234, 45, 67, 1]\n",
    "n=len(a)\n",
    "mini=a[0]\n",
    "maxi=a[0]\n",
    "for i in range(n):\n",
    "    mini=min(mini,a[i])\n",
    "    maxi=max(maxi,a[i])\n",
    "\n",
    "print(\"min = \"+str(mini))\n",
    "print(\"min = \"+str(maxi))"
   ]
  },
  {
   "source": [
    " Write a program to reverse an array or string"
   ],
   "cell_type": "markdown",
   "metadata": {}
  },
  {
   "cell_type": "code",
   "execution_count": 22,
   "metadata": {},
   "outputs": [
    {
     "output_type": "stream",
     "name": "stdout",
     "text": [
      "[6, 5, 4, 3, 2, 1]\n"
     ]
    }
   ],
   "source": [
    "a = [1, 2, 3, 4, 5, 6]\n",
    "start=0\n",
    "end=len(a)-1\n",
    "while(start<end):\n",
    "    a[start],a[end]=a[end],a[start]\n",
    "    start=start+1\n",
    "    end=end-1\n",
    "print(a)"
   ]
  },
  {
   "cell_type": "code",
   "execution_count": 27,
   "metadata": {},
   "outputs": [
    {
     "output_type": "stream",
     "name": "stdout",
     "text": [
      "[6, 5, 4, 3, 2, 1]\n"
     ]
    }
   ],
   "source": [
    "def reverseList(A, start, end):\n",
    "    if start < end:\n",
    "        A[start], A[end] = A[end], A[start]\n",
    "        reverseList(A, start+1, end-1)\n",
    "a = [1, 2, 3, 4, 5, 6]\n",
    "start=0\n",
    "end=len(a)-1\n",
    "reverseList(a,start,end)\n",
    "print(a)"
   ]
  },
  {
   "cell_type": "code",
   "execution_count": 29,
   "metadata": {},
   "outputs": [
    {
     "output_type": "stream",
     "name": "stdout",
     "text": [
      "[6, 5, 4, 3, 2, 1]\n"
     ]
    }
   ],
   "source": [
    "def reverseList(A):\n",
    "  print( A[::-1])\n",
    "     \n",
    "# Driver function to test above function\n",
    "A = [1, 2, 3, 4, 5, 6]\n",
    "reverseList(A) "
   ]
  },
  {
   "cell_type": "code",
   "execution_count": 30,
   "metadata": {},
   "outputs": [
    {
     "output_type": "stream",
     "name": "stdout",
     "text": [
      "[6, 5, 4, 3, 2, 1]\n"
     ]
    }
   ],
   "source": [
    "A = [1, 2, 3, 4, 5, 6]\n",
    "A.reverse()\n",
    "print(A)"
   ]
  },
  {
   "source": [
    "C program to sort an array in ascending order"
   ],
   "cell_type": "markdown",
   "metadata": {}
  },
  {
   "cell_type": "code",
   "execution_count": null,
   "metadata": {},
   "outputs": [],
   "source": []
  }
 ]
}